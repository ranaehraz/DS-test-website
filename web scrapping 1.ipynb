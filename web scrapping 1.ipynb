{
 "cells": [
  {
   "cell_type": "code",
   "execution_count": 85,
   "id": "968a8b0c",
   "metadata": {},
   "outputs": [],
   "source": [
    "import pandas as pd\n",
    "import numpy as np\n",
    "import requests\n",
    "from bs4 import BeautifulSoup\n",
    "import re"
   ]
  },
  {
   "cell_type": "code",
   "execution_count": 86,
   "id": "6a79aa55",
   "metadata": {},
   "outputs": [],
   "source": [
    "url = 'https://webscraper.io/test-sites/e-commerce/allinone/computers/laptops'"
   ]
  },
  {
   "cell_type": "code",
   "execution_count": 87,
   "id": "92fae5f8",
   "metadata": {},
   "outputs": [
    {
     "data": {
      "text/plain": [
       "<Response [200]>"
      ]
     },
     "execution_count": 87,
     "metadata": {},
     "output_type": "execute_result"
    }
   ],
   "source": [
    "r = requests.get(url)\n",
    "r"
   ]
  },
  {
   "cell_type": "code",
   "execution_count": 89,
   "id": "4e99636c",
   "metadata": {},
   "outputs": [],
   "source": [
    "soup = BeautifulSoup(r.text, 'lxml')"
   ]
  },
  {
   "cell_type": "code",
   "execution_count": 110,
   "id": "f33c544e",
   "metadata": {},
   "outputs": [],
   "source": [
    "titles = soup.find_all('a', {'class': 'title'})\n",
    "product_name = []\n",
    "for i in titles:\n",
    "    name = i.text\n",
    "    product_name.append(name)\n",
    "# product_name"
   ]
  },
  {
   "cell_type": "code",
   "execution_count": 111,
   "id": "70d86fa6",
   "metadata": {},
   "outputs": [],
   "source": [
    "desc = soup.find_all('p', {'class':'description card-text'})\n",
    "desc_list = []\n",
    "for i in desc:\n",
    "    des = i.text\n",
    "    desc_list.append(des)\n",
    "# desc_list"
   ]
  },
  {
   "cell_type": "code",
   "execution_count": 112,
   "id": "748c5300",
   "metadata": {},
   "outputs": [],
   "source": [
    "prices = soup.find_all('h4', {'class':'price float-end card-title pull-right'})\n",
    "price_list = []\n",
    "for i in prices:\n",
    "    price = i.text\n",
    "    price_list.append(price)\n",
    "# price_list"
   ]
  },
  {
   "cell_type": "code",
   "execution_count": 113,
   "id": "3f1b3409",
   "metadata": {},
   "outputs": [],
   "source": [
    "reviews = soup.find_all('p', {'class': 'review-count float-end'})\n",
    "reviews_list = []\n",
    "for i in reviews:\n",
    "    review = i.text\n",
    "    reviews_list.append(review)\n",
    "# reviews_list"
   ]
  },
  {
   "cell_type": "code",
   "execution_count": 104,
   "id": "c82330a4",
   "metadata": {},
   "outputs": [],
   "source": [
    "df = pd.DataFrame({'Product Title':product_name, 'Product Description':desc_list, 'Sell Price':price_list,\n",
    "                   'Reviews':reviews_list})"
   ]
  },
  {
   "cell_type": "code",
   "execution_count": 108,
   "id": "ea7243cb",
   "metadata": {},
   "outputs": [
    {
     "data": {
      "text/html": [
       "<div>\n",
       "<style scoped>\n",
       "    .dataframe tbody tr th:only-of-type {\n",
       "        vertical-align: middle;\n",
       "    }\n",
       "\n",
       "    .dataframe tbody tr th {\n",
       "        vertical-align: top;\n",
       "    }\n",
       "\n",
       "    .dataframe thead th {\n",
       "        text-align: right;\n",
       "    }\n",
       "</style>\n",
       "<table border=\"1\" class=\"dataframe\">\n",
       "  <thead>\n",
       "    <tr style=\"text-align: right;\">\n",
       "      <th></th>\n",
       "      <th>Product Title</th>\n",
       "      <th>Product Description</th>\n",
       "      <th>Sell Price</th>\n",
       "      <th>Reviews</th>\n",
       "    </tr>\n",
       "  </thead>\n",
       "  <tbody>\n",
       "    <tr>\n",
       "      <th>0</th>\n",
       "      <td>Asus VivoBook...</td>\n",
       "      <td>Asus VivoBook X441NA-GA190 Chocolate Black, 14...</td>\n",
       "      <td>$295.99</td>\n",
       "      <td>14 reviews</td>\n",
       "    </tr>\n",
       "    <tr>\n",
       "      <th>1</th>\n",
       "      <td>Prestigio Smar...</td>\n",
       "      <td>Prestigio SmartBook 133S Dark Grey, 13.3\" FHD ...</td>\n",
       "      <td>$299</td>\n",
       "      <td>8 reviews</td>\n",
       "    </tr>\n",
       "    <tr>\n",
       "      <th>2</th>\n",
       "      <td>Prestigio Smar...</td>\n",
       "      <td>Prestigio SmartBook 133S Gold, 13.3\" FHD IPS, ...</td>\n",
       "      <td>$299</td>\n",
       "      <td>12 reviews</td>\n",
       "    </tr>\n",
       "    <tr>\n",
       "      <th>3</th>\n",
       "      <td>Aspire E1-510</td>\n",
       "      <td>15.6\", Pentium N3520 2.16GHz, 4GB, 500GB, Linux</td>\n",
       "      <td>$306.99</td>\n",
       "      <td>2 reviews</td>\n",
       "    </tr>\n",
       "    <tr>\n",
       "      <th>4</th>\n",
       "      <td>Lenovo V110-15...</td>\n",
       "      <td>Lenovo V110-15IAP, 15.6\" HD, Celeron N3350 1.1...</td>\n",
       "      <td>$321.94</td>\n",
       "      <td>5 reviews</td>\n",
       "    </tr>\n",
       "    <tr>\n",
       "      <th>...</th>\n",
       "      <td>...</td>\n",
       "      <td>...</td>\n",
       "      <td>...</td>\n",
       "      <td>...</td>\n",
       "    </tr>\n",
       "    <tr>\n",
       "      <th>112</th>\n",
       "      <td>Lenovo Legion...</td>\n",
       "      <td>Lenovo Legion Y720, 15.6\" FHD IPS, Core i7-770...</td>\n",
       "      <td>$1399</td>\n",
       "      <td>8 reviews</td>\n",
       "    </tr>\n",
       "    <tr>\n",
       "      <th>113</th>\n",
       "      <td>Asus ROG Strix...</td>\n",
       "      <td>Asus ROG Strix GL702VM-GC146T, 17.3\" FHD, Core...</td>\n",
       "      <td>$1399</td>\n",
       "      <td>10 reviews</td>\n",
       "    </tr>\n",
       "    <tr>\n",
       "      <th>114</th>\n",
       "      <td>Asus ROG Strix...</td>\n",
       "      <td>Asus ROG Strix GL702ZC-GC154T, 17.3\" FHD, Ryze...</td>\n",
       "      <td>$1769</td>\n",
       "      <td>7 reviews</td>\n",
       "    </tr>\n",
       "    <tr>\n",
       "      <th>115</th>\n",
       "      <td>Asus ROG Strix...</td>\n",
       "      <td>Asus ROG Strix GL702ZC-GC209T, 17.3\" FHD IPS, ...</td>\n",
       "      <td>$1769</td>\n",
       "      <td>8 reviews</td>\n",
       "    </tr>\n",
       "    <tr>\n",
       "      <th>116</th>\n",
       "      <td>Asus ROG Strix...</td>\n",
       "      <td>Asus ROG Strix SCAR Edition GL503VM-ED115T, 15...</td>\n",
       "      <td>$1799</td>\n",
       "      <td>8 reviews</td>\n",
       "    </tr>\n",
       "  </tbody>\n",
       "</table>\n",
       "<p>117 rows × 4 columns</p>\n",
       "</div>"
      ],
      "text/plain": [
       "         Product Title                                Product Description  \\\n",
       "0     Asus VivoBook...  Asus VivoBook X441NA-GA190 Chocolate Black, 14...   \n",
       "1    Prestigio Smar...  Prestigio SmartBook 133S Dark Grey, 13.3\" FHD ...   \n",
       "2    Prestigio Smar...  Prestigio SmartBook 133S Gold, 13.3\" FHD IPS, ...   \n",
       "3        Aspire E1-510    15.6\", Pentium N3520 2.16GHz, 4GB, 500GB, Linux   \n",
       "4    Lenovo V110-15...  Lenovo V110-15IAP, 15.6\" HD, Celeron N3350 1.1...   \n",
       "..                 ...                                                ...   \n",
       "112   Lenovo Legion...  Lenovo Legion Y720, 15.6\" FHD IPS, Core i7-770...   \n",
       "113  Asus ROG Strix...  Asus ROG Strix GL702VM-GC146T, 17.3\" FHD, Core...   \n",
       "114  Asus ROG Strix...  Asus ROG Strix GL702ZC-GC154T, 17.3\" FHD, Ryze...   \n",
       "115  Asus ROG Strix...  Asus ROG Strix GL702ZC-GC209T, 17.3\" FHD IPS, ...   \n",
       "116  Asus ROG Strix...  Asus ROG Strix SCAR Edition GL503VM-ED115T, 15...   \n",
       "\n",
       "    Sell Price     Reviews  \n",
       "0      $295.99  14 reviews  \n",
       "1         $299   8 reviews  \n",
       "2         $299  12 reviews  \n",
       "3      $306.99   2 reviews  \n",
       "4      $321.94   5 reviews  \n",
       "..         ...         ...  \n",
       "112      $1399   8 reviews  \n",
       "113      $1399  10 reviews  \n",
       "114      $1769   7 reviews  \n",
       "115      $1769   8 reviews  \n",
       "116      $1799   8 reviews  \n",
       "\n",
       "[117 rows x 4 columns]"
      ]
     },
     "execution_count": 108,
     "metadata": {},
     "output_type": "execute_result"
    }
   ],
   "source": [
    "df"
   ]
  },
  {
   "cell_type": "code",
   "execution_count": 109,
   "id": "a6d62882",
   "metadata": {},
   "outputs": [],
   "source": [
    "df.to_csv('Web scraping.csv', index = False)"
   ]
  },
  {
   "cell_type": "code",
   "execution_count": null,
   "id": "06a54d72",
   "metadata": {},
   "outputs": [],
   "source": []
  }
 ],
 "metadata": {
  "kernelspec": {
   "display_name": "Python 3 (ipykernel)",
   "language": "python",
   "name": "python3"
  },
  "language_info": {
   "codemirror_mode": {
    "name": "ipython",
    "version": 3
   },
   "file_extension": ".py",
   "mimetype": "text/x-python",
   "name": "python",
   "nbconvert_exporter": "python",
   "pygments_lexer": "ipython3",
   "version": "3.11.3"
  }
 },
 "nbformat": 4,
 "nbformat_minor": 5
}
